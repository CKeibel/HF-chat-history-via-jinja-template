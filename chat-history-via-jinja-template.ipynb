{
 "cells": [
  {
   "cell_type": "code",
   "execution_count": null,
   "id": "f853febf-d480-4169-b22b-fceb2b91eb3a",
   "metadata": {
    "tags": []
   },
   "outputs": [],
   "source": [
    "#!pip install transformers -U --quiet"
   ]
  },
  {
   "cell_type": "code",
   "execution_count": 1,
   "id": "7b26af3b-60be-42e2-85d1-3b1d30db87f0",
   "metadata": {
    "tags": []
   },
   "outputs": [
    {
     "data": {
      "text/plain": [
       "'4.41.2'"
      ]
     },
     "execution_count": 1,
     "metadata": {},
     "output_type": "execute_result"
    }
   ],
   "source": [
    "import transformers\n",
    "\n",
    "transformers.__version__"
   ]
  },
  {
   "cell_type": "code",
   "execution_count": 3,
   "id": "5f14efab-61e7-4ec7-b07b-472ee941d8a3",
   "metadata": {
    "tags": []
   },
   "outputs": [
    {
     "data": {
      "text/plain": [
       "True"
      ]
     },
     "execution_count": 3,
     "metadata": {},
     "output_type": "execute_result"
    }
   ],
   "source": [
    "import torch\n",
    "from pprint import pprint\n",
    "from transformers import AutoTokenizer, AutoModelForCausalLM\n",
    "\n",
    "torch.cuda.is_available()"
   ]
  },
  {
   "cell_type": "code",
   "execution_count": 4,
   "id": "6431d096-5387-42a6-9e80-2eadf0b8cce3",
   "metadata": {
    "tags": []
   },
   "outputs": [
    {
     "data": {
      "application/vnd.jupyter.widget-view+json": {
       "model_id": "ccb90638d7b54c1ebbe4f96997571629",
       "version_major": 2,
       "version_minor": 0
      },
      "text/plain": [
       "tokenizer_config.json:   0%|          | 0.00/137k [00:00<?, ?B/s]"
      ]
     },
     "metadata": {},
     "output_type": "display_data"
    },
    {
     "data": {
      "application/vnd.jupyter.widget-view+json": {
       "model_id": "e23fb40c81f1471e997445caec02ae94",
       "version_major": 2,
       "version_minor": 0
      },
      "text/plain": [
       "tokenizer.model:   0%|          | 0.00/587k [00:00<?, ?B/s]"
      ]
     },
     "metadata": {},
     "output_type": "display_data"
    },
    {
     "data": {
      "application/vnd.jupyter.widget-view+json": {
       "model_id": "0ab6739f095d47e6a77e16f96537a43e",
       "version_major": 2,
       "version_minor": 0
      },
      "text/plain": [
       "tokenizer.json:   0%|          | 0.00/1.96M [00:00<?, ?B/s]"
      ]
     },
     "metadata": {},
     "output_type": "display_data"
    },
    {
     "data": {
      "application/vnd.jupyter.widget-view+json": {
       "model_id": "9dc22e8da8874a02a07d2ff62374fcc4",
       "version_major": 2,
       "version_minor": 0
      },
      "text/plain": [
       "special_tokens_map.json:   0%|          | 0.00/414 [00:00<?, ?B/s]"
      ]
     },
     "metadata": {},
     "output_type": "display_data"
    },
    {
     "name": "stdout",
     "output_type": "stream",
     "text": [
      "(\"{{ bos_token }}{% for message in messages %}{% if (message['role'] == \"\n",
      " \"'user') != (loop.index0 % 2 == 0) %}{{ raise_exception('Conversation roles \"\n",
      " \"must alternate user/assistant/user/assistant/...') }}{% endif %}{% if \"\n",
      " \"message['role'] == 'user' %}{{ '[INST] ' + message['content'] + ' [/INST]' \"\n",
      " \"}}{% elif message['role'] == 'assistant' %}{{ message['content'] + \"\n",
      " \"eos_token}}{% else %}{{ raise_exception('Only user and assistant roles are \"\n",
      " \"supported!') }}{% endif %}{% endfor %}\")\n"
     ]
    }
   ],
   "source": [
    "model_id = \"mistralai/Mistral-7B-Instruct-v0.3\"\n",
    "\n",
    "tokenizer = AutoTokenizer.from_pretrained(model_id)\n",
    "\n",
    "pprint(tokenizer.chat_template)"
   ]
  },
  {
   "cell_type": "markdown",
   "id": "0ca22fcd-b4e6-4f27-8c8e-6187788b6cd4",
   "metadata": {},
   "source": [
    "\"{{ bos_token }}\"  \n",
    "\"{% for message in messages %}\"  \n",
    "    \"{% if (message['role'] == 'user') != (loop.index0 % 2 == 0) %}\"  \n",
    "        \"{{ raise_exception('Conversation roles must alternate user/assistant/user/assistant/...') }}\"  \n",
    "    \"{% endif %}\"  \n",
    "    \"{% if message['role'] == 'user' %}\"  \n",
    "        \"{{ '[INST] ' + message['content'] + ' [/INST]' }}\"  \n",
    "    \"{% elif message['role'] == 'assistant' %}\"  \n",
    "        \"{{ message['content'] + eos_token}}\"  \n",
    "    \"{% else %}\"  \n",
    "        \"{{ raise_exception('Only user and assistant roles are supported!') }}\"  \n",
    "    \"{% endif %}\"  \n",
    "\"{% endfor %}\"  "
   ]
  },
  {
   "cell_type": "code",
   "execution_count": 10,
   "id": "a886504f-2bee-42fb-ad18-7fd5fb4e3216",
   "metadata": {
    "tags": []
   },
   "outputs": [
    {
     "name": "stdout",
     "output_type": "stream",
     "text": [
      "'<s>[INST] Hello [/INST]Hello, how can I assist you today?</s>'\n"
     ]
    }
   ],
   "source": [
    "messages = [\n",
    "    {\n",
    "        \"role\": \"user\",\n",
    "        \"content\": \"Hello\"\n",
    "    },\n",
    "    {\n",
    "        \"role\": \"assistant\", \n",
    "        \"content\": \"Hello, how can I assist you today?\"\n",
    "    }\n",
    "]\n",
    "pprint(tokenizer.apply_chat_template(messages, tokenize=False))"
   ]
  },
  {
   "cell_type": "code",
   "execution_count": 14,
   "id": "48e9f1de-9046-44ad-ae4c-6dea3b463abc",
   "metadata": {
    "tags": []
   },
   "outputs": [],
   "source": [
    "chat_history_template = \\\n",
    "    \"{{bos_token}}\"\\\n",
    "    \"{% for message in messages %}\"\\\n",
    "        \"{% if message['role']=='system' %}\"\\\n",
    "            \"{{ '<|System|>\\n' + message['content'] + '\\n'}}\"\\\n",
    "        \"{% elif message['role']=='user' %}\"\\\n",
    "            \"{{ '<|User|>\\n' + '[INST]' + message['content'] + '[/INST]\\n' }}\"\\\n",
    "        \"{% endif %}\"\\"
   ]
  },
  {
   "cell_type": "code",
   "execution_count": 15,
   "id": "fe3699f1-4d1a-4662-8dee-a9cd12ebd18c",
   "metadata": {
    "tags": []
   },
   "outputs": [
    {
     "data": {
      "text/plain": [
       "'{{bos_token}}Test'"
      ]
     },
     "execution_count": 15,
     "metadata": {},
     "output_type": "execute_result"
    }
   ],
   "source": [
    "chat_history_template"
   ]
  },
  {
   "cell_type": "code",
   "execution_count": 13,
   "id": "6717b7e6-3d5d-4a3d-bb39-b6de1a8e4451",
   "metadata": {
    "tags": []
   },
   "outputs": [
    {
     "data": {
      "text/plain": [
       "{'bos_token': '<s>', 'eos_token': '</s>', 'unk_token': '<unk>'}"
      ]
     },
     "execution_count": 13,
     "metadata": {},
     "output_type": "execute_result"
    }
   ],
   "source": [
    "tokenizer.special_tokens_map"
   ]
  }
 ],
 "metadata": {
  "kernelspec": {
   "display_name": "Python 3 (ipykernel)",
   "language": "python",
   "name": "python3"
  },
  "language_info": {
   "codemirror_mode": {
    "name": "ipython",
    "version": 3
   },
   "file_extension": ".py",
   "mimetype": "text/x-python",
   "name": "python",
   "nbconvert_exporter": "python",
   "pygments_lexer": "ipython3",
   "version": "3.10.11"
  }
 },
 "nbformat": 4,
 "nbformat_minor": 5
}
